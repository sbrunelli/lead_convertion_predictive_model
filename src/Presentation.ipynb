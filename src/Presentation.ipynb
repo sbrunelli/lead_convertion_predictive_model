{
 "cells": [
  {
   "cell_type": "markdown",
   "metadata": {},
   "source": [
    "# Lead Convertion Predictive Model"
   ]
  },
  {
   "cell_type": "code",
   "execution_count": 8,
   "metadata": {
    "collapsed": true
   },
   "outputs": [],
   "source": [
    "import os"
   ]
  },
  {
   "cell_type": "code",
   "execution_count": 9,
   "metadata": {},
   "outputs": [],
   "source": [
    "basedir = 'C:\\github\\lead_convertion_predictive_model'\n",
    "libdir = 'C:\\github\\lead_convertion_predictive_model\\src'"
   ]
  },
  {
   "cell_type": "code",
   "execution_count": 10,
   "metadata": {
    "collapsed": true
   },
   "outputs": [],
   "source": [
    "os.chdir(libdir)"
   ]
  },
  {
   "cell_type": "code",
   "execution_count": 11,
   "metadata": {},
   "outputs": [],
   "source": [
    "import numpy as np\n",
    "from data_cleaning import DataCleaner\n",
    "from features_engineering import FeatureExtractor\n",
    "from model_selection import ModelSelector\n",
    "from sklearn.model_selection import train_test_split\n",
    "from sklearn.metrics import accuracy_score"
   ]
  },
  {
   "cell_type": "code",
   "execution_count": 12,
   "metadata": {},
   "outputs": [],
   "source": [
    "os.chdir(basedir)"
   ]
  },
  {
   "cell_type": "markdown",
   "metadata": {},
   "source": [
    "## Data science pipeline in action"
   ]
  },
  {
   "cell_type": "code",
   "execution_count": 13,
   "metadata": {},
   "outputs": [],
   "source": [
    "def run_benchmark():\n",
    "    # read and clean the data\n",
    "    dc = DataCleaner()\n",
    "    data = dc.clean()\n",
    "\n",
    "    # separate target variable\n",
    "    target = data.pop('Target')\n",
    "\n",
    "    # train test split\n",
    "    data_train, data_test, target_train, target_test = train_test_split(data, target)\n",
    "\n",
    "    # featurize data\n",
    "    featurizer = FeatureExtractor()\n",
    "    X_train = featurizer.featurize(data_train)\n",
    "    X_test = featurizer.featurize(data_test)\n",
    "\n",
    "    # Convert to numpy arrays\n",
    "#    X_train = X_train.reshape(-1, 1)\n",
    "#    X_test = X_test.reshape(-1, 1)\n",
    "    y_train = np.array(target_train)\n",
    "    y_test = np.array(target_test)\n",
    "\n",
    "    # Select model\n",
    "    ms = ModelSelector()\n",
    "    best_model = ms.get_best_model(X_train, X_test, y_train, y_test)\n",
    "\n",
    "    # Print model scores\n",
    "    ms.print_model_scores()\n",
    "    \n",
    "    # Print used features\n",
    "    print \n",
    "    print 'Features used:', featurizer.get_features_names()\n",
    "    \n",
    "    clf = ms.get_all_classifiers()\n",
    "    return clf, X_train, X_test, y_train, y_test"
   ]
  },
  {
   "cell_type": "code",
   "execution_count": 16,
   "metadata": {
    "scrolled": false
   },
   "outputs": [
    {
     "name": "stdout",
     "output_type": "stream",
     "text": [
      "<class 'sklearn.linear_model.logistic.LogisticRegression'>\n",
      " #  Accuracy: 0.62201\n",
      " # Precision: 0.66314\n",
      " #    Recall: 0.80924\n",
      " #  F1 Score: 0.72894\n",
      "<class 'sklearn.ensemble.forest.RandomForestClassifier'>\n",
      " #  Accuracy: 0.61582\n",
      " # Precision: 0.70422\n",
      " #    Recall: 0.66951\n",
      " #  F1 Score: 0.68643\n",
      "<class 'sklearn.ensemble.gradient_boosting.GradientBoostingClassifier'>\n",
      " #  Accuracy: 0.66795\n",
      " # Precision: 0.67199\n",
      " #    Recall: 0.92072\n",
      " #  F1 Score: 0.77694\n",
      "\n",
      "Features used: [u'Order.Entry.CHF', u'Customer.Industry', 'Year']\n",
      " # Baseline won ratio: 0.62806\n"
     ]
    }
   ],
   "source": [
    "clf, X_train, X_test, y_train, y_test = run_benchmark()\n",
    "print ' # Baseline won ratio: {:.5f}'.format(np.mean(y_test))"
   ]
  },
  {
   "cell_type": "code",
   "execution_count": 17,
   "metadata": {},
   "outputs": [
    {
     "name": "stdout",
     "output_type": "stream",
     "text": [
      "[0 1 1 1 1 1 0 1 1 1]\n",
      "[1 1 1 1 0 1 0 1 0 1]\n",
      "[1 1 0 1 1 1 0 1 0 1]\n",
      "[1 1 1 1 0 1 1 1 0 1]\n",
      "0.76643741403\n",
      "0.597111416781\n",
      "0.860522696011\n"
     ]
    }
   ],
   "source": [
    "lr, rf, gb = clf\n",
    "lr_predictions = lr.predict(X_test)\n",
    "rf_predictions = rf.predict(X_test)\n",
    "gb_predictions = gb.predict(X_test)\n",
    "print y_test[:10]\n",
    "print lr_predictions[:10]\n",
    "print rf_predictions[:10]\n",
    "print gb_predictions[:10]\n",
    "print np.mean(lr_predictions)\n",
    "print np.mean(rf_predictions)\n",
    "print np.mean(gb_predictions)"
   ]
  },
  {
   "cell_type": "code",
   "execution_count": null,
   "metadata": {
    "collapsed": true
   },
   "outputs": [],
   "source": []
  }
 ],
 "metadata": {
  "kernelspec": {
   "display_name": "Python 2",
   "language": "python",
   "name": "python2"
  },
  "language_info": {
   "codemirror_mode": {
    "name": "ipython",
    "version": 2
   },
   "file_extension": ".py",
   "mimetype": "text/x-python",
   "name": "python",
   "nbconvert_exporter": "python",
   "pygments_lexer": "ipython2",
   "version": "2.7.13"
  }
 },
 "nbformat": 4,
 "nbformat_minor": 2
}
