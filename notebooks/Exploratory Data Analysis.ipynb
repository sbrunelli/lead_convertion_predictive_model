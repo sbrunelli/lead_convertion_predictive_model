{
 "cells": [
  {
   "cell_type": "markdown",
   "metadata": {},
   "source": [
    "# Exploratory Data Analysis"
   ]
  },
  {
   "cell_type": "code",
   "execution_count": null,
   "metadata": {
    "collapsed": true
   },
   "outputs": [],
   "source": [
    "import pandas as pd\n",
    "import numpy as np\n",
    "import matplotlib.pyplot as plt\n",
    "import seaborn as sns\n",
    "import re\n",
    "%matplotlib inline"
   ]
  },
  {
   "cell_type": "code",
   "execution_count": null,
   "metadata": {
    "collapsed": true
   },
   "outputs": [],
   "source": [
    "data = pd.read_csv('../data/opportunities.csv', parse_dates=['Create.Day'], encoding='latin1')"
   ]
  },
  {
   "cell_type": "markdown",
   "metadata": {},
   "source": [
    "Drop any columns we're not going to be interested in:\n",
    "\n",
    "-  Opportunity.Number \n",
    "-  Acquisition.Day \n",
    "-  Customer.Number \n",
    "-  End.Day \n",
    "-  Order.Number \n",
    "-  Order.End.Day \n",
    "-  Order.Start.Day \n",
    "-  Order.Type \n",
    "-  Start.Day \n",
    "-  Probability.x\n",
    "-  Probability.y\n",
    "-  Order.Entry.Weight.CHF\n",
    "-  Order.Entry.Weight.EUR\n",
    "\n",
    "All order related columns are a very clear of potential leakage. Once there's an order, than the opportunity is most likely already won or at least very close to being won.\n",
    "\n",
    "As far as date fiels, our sales were are able to justify only the create day as the day when the opportunity is inserted into the CRM, so we'll leave the others for now.\n",
    "\n",
    "Probabilities are just the very last one at the moment the opp was closed, and amounts weighted are just the product of the probability with the raw amount."
   ]
  },
  {
   "cell_type": "code",
   "execution_count": null,
   "metadata": {
    "collapsed": true,
    "scrolled": true
   },
   "outputs": [],
   "source": [
    "drop_columns = ['Acquisition.Day', 'Customer.Number', 'End.Day', 'Order.Number', 'Order.End.Day', \n",
    "                'Order.Start.Day', 'Order.Type', 'Start.Day', 'Probability.x', 'Probability.y', 'Order.Entry.Weight.CHF',\n",
    "               'Order.Entry.Weight.EUR']\n",
    "data.drop(drop_columns, axis=1, inplace=True)\n",
    "\n",
    "data['Order.Entry.CHF'] = data['Order.Entry.CHF'].map(lambda x: float(re.sub(',','',x)))\n",
    "data['Order.Entry.EUR'] = data['Order.Entry.EUR'].map(lambda x: float(re.sub(',','',x)))\n",
    "data['Year'] = data['Create.Day'].map(lambda x: x.year)"
   ]
  },
  {
   "cell_type": "code",
   "execution_count": null,
   "metadata": {
    "collapsed": true
   },
   "outputs": [],
   "source": [
    "data.drop(['Quantity'], axis=1, inplace=True)"
   ]
  },
  {
   "cell_type": "markdown",
   "metadata": {},
   "source": [
    "Drop all samples were Customer is NULL"
   ]
  },
  {
   "cell_type": "code",
   "execution_count": null,
   "metadata": {
    "collapsed": true
   },
   "outputs": [],
   "source": [
    "data = data[data.Customer.notnull()]"
   ]
  },
  {
   "cell_type": "code",
   "execution_count": null,
   "metadata": {},
   "outputs": [],
   "source": [
    "data.shape"
   ]
  },
  {
   "cell_type": "markdown",
   "metadata": {
    "collapsed": true
   },
   "source": [
    "## Response Variable"
   ]
  },
  {
   "cell_type": "code",
   "execution_count": null,
   "metadata": {
    "scrolled": true
   },
   "outputs": [],
   "source": [
    "data.Status.value_counts(dropna=False).sort_index()"
   ]
  },
  {
   "cell_type": "code",
   "execution_count": null,
   "metadata": {},
   "outputs": [],
   "source": [
    "data['Status.Category'].value_counts(dropna=False).sort_index()"
   ]
  },
  {
   "cell_type": "code",
   "execution_count": null,
   "metadata": {},
   "outputs": [],
   "source": [
    "data['Target'] = data['Status.Category'].map(lambda x: 1 if x=='Won' else 0)\n",
    "np.mean(data.Target)"
   ]
  },
  {
   "cell_type": "markdown",
   "metadata": {},
   "source": [
    "Almost 62% for majority class.\n",
    "\n",
    "Classes are pretty unbalanced and also it is realistical to think that more opportunities are actually worked on, that they are won, so even a 50% proportion for the majority class would have been at the very least suspect."
   ]
  },
  {
   "cell_type": "markdown",
   "metadata": {},
   "source": [
    "For the moment I have no idea if I want to handle this and how."
   ]
  },
  {
   "cell_type": "markdown",
   "metadata": {},
   "source": [
    "## Customer features engineering"
   ]
  },
  {
   "cell_type": "markdown",
   "metadata": {},
   "source": [
    "### First contact"
   ]
  },
  {
   "cell_type": "markdown",
   "metadata": {},
   "source": [
    "Support column to facilitate aggregations and counts."
   ]
  },
  {
   "cell_type": "code",
   "execution_count": null,
   "metadata": {
    "collapsed": true
   },
   "outputs": [],
   "source": [
    "data['one'] = 1"
   ]
  },
  {
   "cell_type": "markdown",
   "metadata": {},
   "source": [
    "Before we can apply any logic that has to do with sorting with respect to the customer dimension, we should make sure records are alreay sorted"
   ]
  },
  {
   "cell_type": "code",
   "execution_count": null,
   "metadata": {
    "collapsed": true
   },
   "outputs": [],
   "source": [
    "data.reset_index(inplace=True)"
   ]
  },
  {
   "cell_type": "code",
   "execution_count": null,
   "metadata": {
    "collapsed": true
   },
   "outputs": [],
   "source": [
    "data = data.sort_values(by=['Customer', 'Create.Day', 'Opportunity.Number'])"
   ]
  },
  {
   "cell_type": "code",
   "execution_count": null,
   "metadata": {
    "collapsed": true
   },
   "outputs": [],
   "source": [
    "data['Customer.Contacts.So.Far'] = data.groupby('Customer').cumsum()['one']"
   ]
  },
  {
   "cell_type": "code",
   "execution_count": null,
   "metadata": {},
   "outputs": [],
   "source": [
    "data['Customer.First.Contact'] = data['Customer.Contacts.So.Far'].map(lambda x: 1 if x==1 else 0)"
   ]
  },
  {
   "cell_type": "code",
   "execution_count": null,
   "metadata": {},
   "outputs": [],
   "source": [
    "data[['Customer', 'Create.Day', 'Customer.Contacts.So.Far', \n",
    "      'Customer.First.Contact']].sort_values(by = ['Customer', 'Create.Day']).head(20)"
   ]
  },
  {
   "cell_type": "markdown",
   "metadata": {},
   "source": [
    "### How many so far"
   ]
  },
  {
   "cell_type": "markdown",
   "metadata": {},
   "source": [
    "Customer.Contacts.So.Far"
   ]
  },
  {
   "cell_type": "markdown",
   "metadata": {},
   "source": [
    "### Convertion rate so far"
   ]
  },
  {
   "cell_type": "code",
   "execution_count": null,
   "metadata": {
    "collapsed": true
   },
   "outputs": [],
   "source": [
    "data['Customer.Won.So.Far'] = data.groupby('Customer').cumsum()['Target']"
   ]
  },
  {
   "cell_type": "code",
   "execution_count": null,
   "metadata": {},
   "outputs": [],
   "source": [
    "data['Customer.ConvRatio.So.Far'] = data['Customer.Won.So.Far'].astype('float') / data['Customer.Contacts.So.Far']"
   ]
  },
  {
   "cell_type": "code",
   "execution_count": null,
   "metadata": {},
   "outputs": [],
   "source": [
    "data[['Customer', 'Create.Day', 'Target', 'Customer.Contacts.So.Far', 'Customer.Won.So.Far', \n",
    "      'Customer.ConvRatio.So.Far']].sort_values(by=['Customer','Create.Day']).head(20)"
   ]
  },
  {
   "cell_type": "markdown",
   "metadata": {},
   "source": [
    "### Convertion rate last 5"
   ]
  },
  {
   "cell_type": "code",
   "execution_count": null,
   "metadata": {
    "collapsed": true
   },
   "outputs": [],
   "source": [
    "cvrl5 = data.groupby('Customer').rolling(window=5, on='Create.Day', min_periods=1).sum()['Target']"
   ]
  },
  {
   "cell_type": "code",
   "execution_count": null,
   "metadata": {},
   "outputs": [],
   "source": [
    "cvrl5"
   ]
  },
  {
   "cell_type": "code",
   "execution_count": null,
   "metadata": {
    "collapsed": true
   },
   "outputs": [],
   "source": [
    "cvrl5 = cvrl5.reset_index()"
   ]
  },
  {
   "cell_type": "code",
   "execution_count": null,
   "metadata": {},
   "outputs": [],
   "source": [
    "cvrl5"
   ]
  },
  {
   "cell_type": "code",
   "execution_count": null,
   "metadata": {
    "collapsed": true
   },
   "outputs": [],
   "source": [
    "cvrl5.drop('Customer', axis=1, inplace=True)"
   ]
  },
  {
   "cell_type": "code",
   "execution_count": null,
   "metadata": {},
   "outputs": [],
   "source": [
    "cvrl5.rename(columns={'Target': 'Customer.Won.Last5', 'level_1': 'Opportunity.Number'}, inplace=True)"
   ]
  },
  {
   "cell_type": "code",
   "execution_count": null,
   "metadata": {},
   "outputs": [],
   "source": [
    "cvrl5"
   ]
  },
  {
   "cell_type": "code",
   "execution_count": null,
   "metadata": {
    "collapsed": true
   },
   "outputs": [],
   "source": [
    "data = data.reset_index()"
   ]
  },
  {
   "cell_type": "code",
   "execution_count": null,
   "metadata": {
    "collapsed": true
   },
   "outputs": [],
   "source": [
    "data = data.merge(cvrl5, on='Opportunity.Number', how='left')"
   ]
  },
  {
   "cell_type": "code",
   "execution_count": null,
   "metadata": {},
   "outputs": [],
   "source": [
    "data[['Customer', 'Create.Day', 'Target', 'Customer.Won.Last5']].sort_values(by=['Customer','Create.Day', 'Opportunity.Number']).head(20)"
   ]
  },
  {
   "cell_type": "code",
   "execution_count": null,
   "metadata": {
    "collapsed": true
   },
   "outputs": [],
   "source": [
    "data['Customer.ConvRatio.Last5'] = data['Customer.Won.Last5'] / data['Customer.Contacts.So.Far'].map(lambda x: min(x, 5))"
   ]
  },
  {
   "cell_type": "code",
   "execution_count": null,
   "metadata": {
    "scrolled": false
   },
   "outputs": [],
   "source": [
    "data[['Customer', 'Opportunity.Number', 'Create.Day', 'Target', 'Customer.Won.Last5', \n",
    "      'Customer.ConvRatio.Last5']].sort_values(by=['Customer','Create.Day']).head(20)"
   ]
  },
  {
   "cell_type": "markdown",
   "metadata": {},
   "source": [
    "### How many in last year, convertion ratio last year?"
   ]
  },
  {
   "cell_type": "code",
   "execution_count": null,
   "metadata": {
    "collapsed": true
   },
   "outputs": [],
   "source": [
    "import datetime"
   ]
  },
  {
   "cell_type": "code",
   "execution_count": null,
   "metadata": {},
   "outputs": [],
   "source": [
    "cvrl5 = data.groupby('Customer', ).rolling(window=datetime.timedelta(days=365), \n",
    "                                           on='Create.Day', min_periods=1).sum()[['Target', 'one']]\n",
    "cvrl5 = cvrl5.reset_index()\n",
    "cvrl5.drop('Customer', axis=1, inplace=True)\n",
    "cvrl5.rename(columns={'Target': 'Customer.Won.LastYear', 'one': 'Customer.Contacts.LastYear', \n",
    "                     'level_1': 'Opportunity.Number'}, inplace=True)"
   ]
  },
  {
   "cell_type": "code",
   "execution_count": null,
   "metadata": {},
   "outputs": [],
   "source": [
    "data = data.reset_index()\n",
    "data = data.merge(cvrl5, on='Opportunity.Number', how='left')\n",
    "data.set_index('Opportunity.Number', inplace=True)"
   ]
  },
  {
   "cell_type": "code",
   "execution_count": null,
   "metadata": {},
   "outputs": [],
   "source": [
    "data[['Customer', 'Create.Day', 'Target', 'Customer.Won.LastYear']].sort_values(by=['Customer','Create.Day']).head(20)"
   ]
  },
  {
   "cell_type": "code",
   "execution_count": null,
   "metadata": {},
   "outputs": [],
   "source": [
    "data['Customer.ConvRatio.LastYear'] = data['Customer.Won.LastYear'] / data['Customer.Contacts.LastYear']"
   ]
  },
  {
   "cell_type": "code",
   "execution_count": null,
   "metadata": {},
   "outputs": [],
   "source": [
    "data[['Customer', 'Create.Day', 'Target', 'Customer.Won.LastYear', \n",
    "      'Customer.Contacts.LastYear', 'Customer.ConvRatio.LastYear']].sort_values(by=['Customer','Create.Day']).head(30)"
   ]
  },
  {
   "cell_type": "markdown",
   "metadata": {},
   "source": [
    "### Standard deviation of current Order Entry CHF to average value for a given customer"
   ]
  },
  {
   "cell_type": "code",
   "execution_count": null,
   "metadata": {
    "collapsed": true
   },
   "outputs": [],
   "source": [
    "data['Order.Entry.CHF.Won'] = data['Order.Entry.CHF'] * data['Target']"
   ]
  },
  {
   "cell_type": "code",
   "execution_count": null,
   "metadata": {},
   "outputs": [],
   "source": [
    "data['Customer.Avg.Order.Entry.CHF.So.Far'] = data.groupby('Customer').cumsum()['Order.Entry.CHF.Won'] / data['Customer.Won.So.Far']"
   ]
  },
  {
   "cell_type": "code",
   "execution_count": null,
   "metadata": {
    "scrolled": false
   },
   "outputs": [],
   "source": [
    "data[['Customer', 'Create.Day', 'Target', 'Order.Entry.CHF', 'Order.Entry.CHF.Won',\n",
    "      'Customer.Contacts.So.Far', 'Customer.Avg.Order.Entry.CHF.So.Far']].sort_values(by=['Customer', 'Create.Day']).head(20)"
   ]
  },
  {
   "cell_type": "code",
   "execution_count": null,
   "metadata": {},
   "outputs": [],
   "source": [
    "data['Customer.Avg.Order.Entry.CHF.So.Far.Lag1'] = data.groupby('Customer')['Customer.Avg.Order.Entry.CHF.So.Far'].shift(1)"
   ]
  },
  {
   "cell_type": "code",
   "execution_count": null,
   "metadata": {
    "scrolled": false
   },
   "outputs": [],
   "source": [
    "data[['Customer', 'Create.Day', 'Customer.Avg.Order.Entry.CHF.So.Far', \n",
    "      'Customer.Avg.Order.Entry.CHF.So.Far.Lag1']].sort_values(by=['Customer', 'Create.Day']).head(20)"
   ]
  },
  {
   "cell_type": "code",
   "execution_count": null,
   "metadata": {},
   "outputs": [],
   "source": [
    "data['Customer.Order.Entry.CHF.std2avg'] = (data['Order.Entry.CHF'] - data['Customer.Avg.Order.Entry.CHF.So.Far.Lag1']) /  \\\n",
    "                    data['Customer.Avg.Order.Entry.CHF.So.Far.Lag1'].map(lambda x: np.nan if x==0 else x)"
   ]
  },
  {
   "cell_type": "code",
   "execution_count": null,
   "metadata": {
    "scrolled": false
   },
   "outputs": [],
   "source": [
    "data[['Customer', 'Create.Day', 'Target', 'Order.Entry.CHF',\n",
    "      'Customer.Avg.Order.Entry.CHF.So.Far.Lag1', 'Customer.Order.Entry.CHF.std2avg']].sort_values(by=['Customer', 'Create.Day']).head(20)"
   ]
  },
  {
   "cell_type": "code",
   "execution_count": null,
   "metadata": {
    "collapsed": true
   },
   "outputs": [],
   "source": [
    "data['Customer.Order.Entry.CHF.std2avg'] = data['Customer.Order.Entry.CHF.std2avg'].fillna(0)"
   ]
  },
  {
   "cell_type": "code",
   "execution_count": null,
   "metadata": {},
   "outputs": [],
   "source": [
    "data.groupby('Target').mean()['Customer.Order.Entry.CHF.std2avg']"
   ]
  },
  {
   "cell_type": "markdown",
   "metadata": {},
   "source": [
    "### Last outcome"
   ]
  },
  {
   "cell_type": "code",
   "execution_count": null,
   "metadata": {
    "collapsed": true
   },
   "outputs": [],
   "source": [
    "data['Customer.Last.Target'] = data.groupby('Customer')['Target'].shift(1)"
   ]
  },
  {
   "cell_type": "markdown",
   "metadata": {},
   "source": [
    "### Time (days) since last contact"
   ]
  },
  {
   "cell_type": "code",
   "execution_count": null,
   "metadata": {},
   "outputs": [],
   "source": [
    "data['Customer.Days.Since.LastContact'] = (data['Create.Day'] - data.groupby('Customer')['Create.Day'].shift(1)).dt.days"
   ]
  },
  {
   "cell_type": "markdown",
   "metadata": {},
   "source": [
    "### Time (days) since last win"
   ]
  },
  {
   "cell_type": "code",
   "execution_count": null,
   "metadata": {
    "collapsed": true
   },
   "outputs": [],
   "source": [
    "idxWon = (data.Target == 1)\n",
    "data.loc[idxWon, 'Customer.Last.Day.Won'] = data.loc[idxWon, 'Create.Day']\n",
    "data['Customer.Last.Day.Won'] = data['Customer.Last.Day.Won'].fillna(method='ffill')\n",
    "data['Customer.Last.Day.Won'] = data['Customer.Last.Day.Won'].shift(1)\n",
    "data['Customer.Days.Since.LastWin'] = (data['Create.Day'] - data['Customer.Last.Day.Won']).dt.days"
   ]
  },
  {
   "cell_type": "markdown",
   "metadata": {},
   "source": [
    "What are negative values?"
   ]
  },
  {
   "cell_type": "markdown",
   "metadata": {},
   "source": [
    "### Time (days) since last loss"
   ]
  },
  {
   "cell_type": "code",
   "execution_count": null,
   "metadata": {
    "collapsed": true
   },
   "outputs": [],
   "source": [
    "idxLost = (data.Target == 0)\n",
    "data.loc[idxWon, 'Customer.Last.Day.Loss'] = data.loc[idxLost, 'Create.Day']\n",
    "data['Customer.Last.Day.Loss'] = data['Customer.Last.Day.Loss'].fillna(method='ffill')\n",
    "data['Customer.Last.Day.Loss'] = data['Customer.Last.Day.Loss'].shift(1)\n",
    "data['Customer.Days.Since.LastLoss'] = (data['Create.Day'] - data['Customer.Last.Day.Loss']).dt.days"
   ]
  },
  {
   "cell_type": "markdown",
   "metadata": {},
   "source": [
    "### Amount CHF last win"
   ]
  },
  {
   "cell_type": "code",
   "execution_count": null,
   "metadata": {},
   "outputs": [],
   "source": [
    "idxWon = (data.Target == 1)\n",
    "data.loc[idxWon, 'Customer.CHF.Last.Won'] = data.loc[idxWon, 'Order.Entry.CHF']\n",
    "data['Customer.CHF.Last.Won'] = data['Customer.CHF.Last.Won'].fillna(method='ffill')\n",
    "data['Customer.CHF.Last.Won'] = data['Customer.CHF.Last.Won'].shift(1)"
   ]
  },
  {
   "cell_type": "markdown",
   "metadata": {},
   "source": [
    "### Amount  CHF last loss"
   ]
  },
  {
   "cell_type": "code",
   "execution_count": null,
   "metadata": {
    "collapsed": true
   },
   "outputs": [],
   "source": [
    "idxLoss = (data.Target == 0)\n",
    "data.loc[idxWon, 'Customer.CHF.Last.Loss'] = data.loc[idxLoss, 'Order.Entry.CHF']\n",
    "data['Customer.CHF.Last.Loss'] = data['Customer.CHF.Last.Loss'].fillna(method='ffill')\n",
    "data['Customer.CHF.Last.Loss'] = data['Customer.CHF.Last.Loss'].shift(1)"
   ]
  },
  {
   "cell_type": "code",
   "execution_count": null,
   "metadata": {},
   "outputs": [],
   "source": [
    "data.info()"
   ]
  },
  {
   "cell_type": "code",
   "execution_count": null,
   "metadata": {},
   "outputs": [],
   "source": [
    "data.to_csv('../data/test.csv', index=False, encoding='latin1')"
   ]
  },
  {
   "cell_type": "code",
   "execution_count": null,
   "metadata": {
    "collapsed": true
   },
   "outputs": [],
   "source": []
  }
 ],
 "metadata": {
  "kernelspec": {
   "display_name": "Python 2",
   "language": "python",
   "name": "python2"
  },
  "language_info": {
   "codemirror_mode": {
    "name": "ipython",
    "version": 2
   },
   "file_extension": ".py",
   "mimetype": "text/x-python",
   "name": "python",
   "nbconvert_exporter": "python",
   "pygments_lexer": "ipython2",
   "version": "2.7.13"
  }
 },
 "nbformat": 4,
 "nbformat_minor": 2
}
