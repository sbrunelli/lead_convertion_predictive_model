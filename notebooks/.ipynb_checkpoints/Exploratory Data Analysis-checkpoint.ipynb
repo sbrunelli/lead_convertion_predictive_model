{
 "cells": [
  {
   "cell_type": "markdown",
   "metadata": {},
   "source": [
    "# Exploratory Data Analysis"
   ]
  },
  {
   "cell_type": "code",
   "execution_count": 1,
   "metadata": {
    "collapsed": true
   },
   "outputs": [],
   "source": [
    "import pandas as pd\n",
    "import numpy as np\n",
    "import matplotlib.pyplot as plt\n",
    "import seaborn as sns\n",
    "import re\n",
    "%matplotlib inline"
   ]
  },
  {
   "cell_type": "code",
   "execution_count": 2,
   "metadata": {
    "collapsed": true
   },
   "outputs": [],
   "source": [
    "data = pd.read_csv('../data/opportunities.csv', parse_dates=['Create.Day'], encoding='latin1')"
   ]
  },
  {
   "cell_type": "markdown",
   "metadata": {},
   "source": [
    "Drop any columns we're not going to be interested in:\n",
    "\n",
    "-  Opportunity.Number \n",
    "-  Acquisition.Day \n",
    "-  Customer.Number \n",
    "-  End.Day \n",
    "-  Order.Number \n",
    "-  Order.End.Day \n",
    "-  Order.Start.Day \n",
    "-  Order.Type \n",
    "-  Start.Day \n",
    "-  Probability.x\n",
    "-  Probability.y\n",
    "-  Order.Entry.Weight.CHF\n",
    "-  Order.Entry.Weight.EUR\n",
    "\n",
    "All order related columns are a very clear of potential leakage. Once there's an order, than the opportunity is most likely already won or at least very close to being won.\n",
    "\n",
    "As far as date fiels, our sales were are able to justify only the create day as the day when the opportunity is inserted into the CRM, so we'll leave the others for now.\n",
    "\n",
    "Probabilities are just the very last one at the moment the opp was closed, and amounts weighted are just the product of the probability with the raw amount."
   ]
  },
  {
   "cell_type": "code",
   "execution_count": 3,
   "metadata": {
    "collapsed": true,
    "scrolled": true
   },
   "outputs": [],
   "source": [
    "drop_columns = ['Acquisition.Day', 'Customer.Number', 'End.Day', 'Order.Number', 'Order.End.Day', \n",
    "                'Order.Start.Day', 'Order.Type', 'Start.Day', 'Probability.x', 'Probability.y', 'Order.Entry.Weight.CHF',\n",
    "               'Order.Entry.Weight.EUR']\n",
    "data.drop(drop_columns, axis=1, inplace=True)\n",
    "\n",
    "data['Order.Entry.CHF'] = data['Order.Entry.CHF'].map(lambda x: float(re.sub(',','',x)))\n",
    "data['Order.Entry.EUR'] = data['Order.Entry.EUR'].map(lambda x: float(re.sub(',','',x)))\n",
    "data['Year'] = data['Create.Day'].map(lambda x: x.year)"
   ]
  },
  {
   "cell_type": "code",
   "execution_count": 4,
   "metadata": {
    "collapsed": true
   },
   "outputs": [],
   "source": [
    "data.drop(['Quantity'], axis=1, inplace=True)"
   ]
  },
  {
   "cell_type": "markdown",
   "metadata": {},
   "source": [
    "Drop all samples were Customer is NULL"
   ]
  },
  {
   "cell_type": "code",
   "execution_count": 5,
   "metadata": {
    "collapsed": true
   },
   "outputs": [],
   "source": [
    "data = data[data.Customer.notnull()]"
   ]
  },
  {
   "cell_type": "code",
   "execution_count": 6,
   "metadata": {},
   "outputs": [
    {
     "data": {
      "text/plain": [
       "(29938, 22)"
      ]
     },
     "execution_count": 6,
     "metadata": {},
     "output_type": "execute_result"
    }
   ],
   "source": [
    "data.shape"
   ]
  },
  {
   "cell_type": "markdown",
   "metadata": {
    "collapsed": true
   },
   "source": [
    "## Response Variable"
   ]
  },
  {
   "cell_type": "code",
   "execution_count": 7,
   "metadata": {
    "scrolled": true
   },
   "outputs": [
    {
     "data": {
      "text/plain": [
       "10 Died              6486\n",
       "11 On hold            116\n",
       "3 Qualification       596\n",
       "4 Offer in work       121\n",
       "5 Offered             385\n",
       "6 In revision          47\n",
       "7 In negotiation       66\n",
       "8 Won               18511\n",
       "9 Lost               3610\n",
       "Name: Status, dtype: int64"
      ]
     },
     "execution_count": 7,
     "metadata": {},
     "output_type": "execute_result"
    }
   ],
   "source": [
    "data.Status.value_counts(dropna=False).sort_index()"
   ]
  },
  {
   "cell_type": "code",
   "execution_count": 8,
   "metadata": {},
   "outputs": [
    {
     "data": {
      "text/plain": [
       "Closed     10096\n",
       "On Hold      116\n",
       "Open        1215\n",
       "Won        18511\n",
       "Name: Status.Category, dtype: int64"
      ]
     },
     "execution_count": 8,
     "metadata": {},
     "output_type": "execute_result"
    }
   ],
   "source": [
    "data['Status.Category'].value_counts(dropna=False).sort_index()"
   ]
  },
  {
   "cell_type": "code",
   "execution_count": 9,
   "metadata": {},
   "outputs": [
    {
     "data": {
      "text/plain": [
       "0.6183111764312913"
      ]
     },
     "execution_count": 9,
     "metadata": {},
     "output_type": "execute_result"
    }
   ],
   "source": [
    "data['Target'] = data['Status.Category'].map(lambda x: 1 if x=='Won' else 0)\n",
    "np.mean(data.Target)"
   ]
  },
  {
   "cell_type": "markdown",
   "metadata": {},
   "source": [
    "Almost 62% for majority class.\n",
    "\n",
    "Classes are pretty unbalanced and also it is realistical to think that more opportunities are actually worked on, that they are won, so even a 50% proportion for the majority class would have been at the very least suspect."
   ]
  },
  {
   "cell_type": "markdown",
   "metadata": {},
   "source": [
    "For the moment I have no idea if I want to handle this and how."
   ]
  },
  {
   "cell_type": "markdown",
   "metadata": {},
   "source": [
    "## Customer features engineering"
   ]
  },
  {
   "cell_type": "markdown",
   "metadata": {},
   "source": [
    "### First contact"
   ]
  },
  {
   "cell_type": "markdown",
   "metadata": {},
   "source": [
    "Support column to facilitate aggregations and counts."
   ]
  },
  {
   "cell_type": "code",
   "execution_count": 10,
   "metadata": {
    "collapsed": true
   },
   "outputs": [],
   "source": [
    "data['one'] = 1"
   ]
  },
  {
   "cell_type": "markdown",
   "metadata": {},
   "source": [
    "Before we can apply any logic that has to do with sorting with respect to the customer dimension, we should make sure records are alreay sorted"
   ]
  },
  {
   "cell_type": "code",
   "execution_count": 11,
   "metadata": {
    "collapsed": true
   },
   "outputs": [],
   "source": [
    "data.reset_index(inplace=True)\n",
    "data = data.sort_values(by=['Customer', 'Create.Day', 'Opportunity.Number'])"
   ]
  },
  {
   "cell_type": "code",
   "execution_count": 12,
   "metadata": {
    "collapsed": true
   },
   "outputs": [],
   "source": [
    "data['Customer.Contacts.So.Far'] = data.groupby('Customer').cumsum()['one']"
   ]
  },
  {
   "cell_type": "code",
   "execution_count": 13,
   "metadata": {},
   "outputs": [],
   "source": [
    "data['Customer.First.Contact'] = data['Customer.Contacts.So.Far'].map(lambda x: 1 if x==1 else 0)"
   ]
  },
  {
   "cell_type": "code",
   "execution_count": 14,
   "metadata": {},
   "outputs": [
    {
     "data": {
      "text/html": [
       "<div>\n",
       "<style>\n",
       "    .dataframe thead tr:only-child th {\n",
       "        text-align: right;\n",
       "    }\n",
       "\n",
       "    .dataframe thead th {\n",
       "        text-align: left;\n",
       "    }\n",
       "\n",
       "    .dataframe tbody tr th {\n",
       "        vertical-align: top;\n",
       "    }\n",
       "</style>\n",
       "<table border=\"1\" class=\"dataframe\">\n",
       "  <thead>\n",
       "    <tr style=\"text-align: right;\">\n",
       "      <th></th>\n",
       "      <th>Customer</th>\n",
       "      <th>Create.Day</th>\n",
       "      <th>Customer.Contacts.So.Far</th>\n",
       "      <th>Customer.First.Contact</th>\n",
       "    </tr>\n",
       "  </thead>\n",
       "  <tbody>\n",
       "    <tr>\n",
       "      <th>18511</th>\n",
       "      <td>1&amp;1 De-Mail GmbH [127995]</td>\n",
       "      <td>2013-11-15</td>\n",
       "      <td>1</td>\n",
       "      <td>1</td>\n",
       "    </tr>\n",
       "    <tr>\n",
       "      <th>19812</th>\n",
       "      <td>1&amp;1 De-Mail GmbH [127995]</td>\n",
       "      <td>2014-03-17</td>\n",
       "      <td>2</td>\n",
       "      <td>0</td>\n",
       "    </tr>\n",
       "    <tr>\n",
       "      <th>22461</th>\n",
       "      <td>1&amp;1 De-Mail GmbH [127995]</td>\n",
       "      <td>2014-12-09</td>\n",
       "      <td>3</td>\n",
       "      <td>0</td>\n",
       "    </tr>\n",
       "    <tr>\n",
       "      <th>23385</th>\n",
       "      <td>1&amp;1 De-Mail GmbH [127995]</td>\n",
       "      <td>2015-03-10</td>\n",
       "      <td>4</td>\n",
       "      <td>0</td>\n",
       "    </tr>\n",
       "    <tr>\n",
       "      <th>27591</th>\n",
       "      <td>1&amp;1 De-Mail GmbH [127995]</td>\n",
       "      <td>2016-04-01</td>\n",
       "      <td>5</td>\n",
       "      <td>0</td>\n",
       "    </tr>\n",
       "    <tr>\n",
       "      <th>774</th>\n",
       "      <td>1&amp;1 Internet SE [4497]</td>\n",
       "      <td>2009-03-01</td>\n",
       "      <td>1</td>\n",
       "      <td>1</td>\n",
       "    </tr>\n",
       "    <tr>\n",
       "      <th>775</th>\n",
       "      <td>1&amp;1 Internet SE [4497]</td>\n",
       "      <td>2009-03-01</td>\n",
       "      <td>2</td>\n",
       "      <td>0</td>\n",
       "    </tr>\n",
       "    <tr>\n",
       "      <th>2593</th>\n",
       "      <td>1&amp;1 Internet SE [4497]</td>\n",
       "      <td>2009-03-06</td>\n",
       "      <td>3</td>\n",
       "      <td>0</td>\n",
       "    </tr>\n",
       "    <tr>\n",
       "      <th>2594</th>\n",
       "      <td>1&amp;1 Internet SE [4497]</td>\n",
       "      <td>2009-03-06</td>\n",
       "      <td>4</td>\n",
       "      <td>0</td>\n",
       "    </tr>\n",
       "    <tr>\n",
       "      <th>3325</th>\n",
       "      <td>1&amp;1 Internet SE [4497]</td>\n",
       "      <td>2009-05-28</td>\n",
       "      <td>5</td>\n",
       "      <td>0</td>\n",
       "    </tr>\n",
       "    <tr>\n",
       "      <th>3332</th>\n",
       "      <td>1&amp;1 Internet SE [4497]</td>\n",
       "      <td>2009-05-28</td>\n",
       "      <td>6</td>\n",
       "      <td>0</td>\n",
       "    </tr>\n",
       "    <tr>\n",
       "      <th>3956</th>\n",
       "      <td>1&amp;1 Internet SE [4497]</td>\n",
       "      <td>2009-08-05</td>\n",
       "      <td>7</td>\n",
       "      <td>0</td>\n",
       "    </tr>\n",
       "    <tr>\n",
       "      <th>4081</th>\n",
       "      <td>1&amp;1 Internet SE [4497]</td>\n",
       "      <td>2009-08-24</td>\n",
       "      <td>8</td>\n",
       "      <td>0</td>\n",
       "    </tr>\n",
       "    <tr>\n",
       "      <th>4314</th>\n",
       "      <td>1&amp;1 Internet SE [4497]</td>\n",
       "      <td>2009-09-16</td>\n",
       "      <td>9</td>\n",
       "      <td>0</td>\n",
       "    </tr>\n",
       "    <tr>\n",
       "      <th>4344</th>\n",
       "      <td>1&amp;1 Internet SE [4497]</td>\n",
       "      <td>2009-09-21</td>\n",
       "      <td>10</td>\n",
       "      <td>0</td>\n",
       "    </tr>\n",
       "    <tr>\n",
       "      <th>4345</th>\n",
       "      <td>1&amp;1 Internet SE [4497]</td>\n",
       "      <td>2009-09-21</td>\n",
       "      <td>11</td>\n",
       "      <td>0</td>\n",
       "    </tr>\n",
       "    <tr>\n",
       "      <th>4412</th>\n",
       "      <td>1&amp;1 Internet SE [4497]</td>\n",
       "      <td>2009-09-24</td>\n",
       "      <td>12</td>\n",
       "      <td>0</td>\n",
       "    </tr>\n",
       "    <tr>\n",
       "      <th>4538</th>\n",
       "      <td>1&amp;1 Internet SE [4497]</td>\n",
       "      <td>2009-10-08</td>\n",
       "      <td>13</td>\n",
       "      <td>0</td>\n",
       "    </tr>\n",
       "    <tr>\n",
       "      <th>4651</th>\n",
       "      <td>1&amp;1 Internet SE [4497]</td>\n",
       "      <td>2009-10-23</td>\n",
       "      <td>14</td>\n",
       "      <td>0</td>\n",
       "    </tr>\n",
       "    <tr>\n",
       "      <th>4727</th>\n",
       "      <td>1&amp;1 Internet SE [4497]</td>\n",
       "      <td>2009-11-02</td>\n",
       "      <td>15</td>\n",
       "      <td>0</td>\n",
       "    </tr>\n",
       "  </tbody>\n",
       "</table>\n",
       "</div>"
      ],
      "text/plain": [
       "                        Customer Create.Day  Customer.Contacts.So.Far  \\\n",
       "18511  1&1 De-Mail GmbH [127995] 2013-11-15                         1   \n",
       "19812  1&1 De-Mail GmbH [127995] 2014-03-17                         2   \n",
       "22461  1&1 De-Mail GmbH [127995] 2014-12-09                         3   \n",
       "23385  1&1 De-Mail GmbH [127995] 2015-03-10                         4   \n",
       "27591  1&1 De-Mail GmbH [127995] 2016-04-01                         5   \n",
       "774       1&1 Internet SE [4497] 2009-03-01                         1   \n",
       "775       1&1 Internet SE [4497] 2009-03-01                         2   \n",
       "2593      1&1 Internet SE [4497] 2009-03-06                         3   \n",
       "2594      1&1 Internet SE [4497] 2009-03-06                         4   \n",
       "3325      1&1 Internet SE [4497] 2009-05-28                         5   \n",
       "3332      1&1 Internet SE [4497] 2009-05-28                         6   \n",
       "3956      1&1 Internet SE [4497] 2009-08-05                         7   \n",
       "4081      1&1 Internet SE [4497] 2009-08-24                         8   \n",
       "4314      1&1 Internet SE [4497] 2009-09-16                         9   \n",
       "4344      1&1 Internet SE [4497] 2009-09-21                        10   \n",
       "4345      1&1 Internet SE [4497] 2009-09-21                        11   \n",
       "4412      1&1 Internet SE [4497] 2009-09-24                        12   \n",
       "4538      1&1 Internet SE [4497] 2009-10-08                        13   \n",
       "4651      1&1 Internet SE [4497] 2009-10-23                        14   \n",
       "4727      1&1 Internet SE [4497] 2009-11-02                        15   \n",
       "\n",
       "       Customer.First.Contact  \n",
       "18511                       1  \n",
       "19812                       0  \n",
       "22461                       0  \n",
       "23385                       0  \n",
       "27591                       0  \n",
       "774                         1  \n",
       "775                         0  \n",
       "2593                        0  \n",
       "2594                        0  \n",
       "3325                        0  \n",
       "3332                        0  \n",
       "3956                        0  \n",
       "4081                        0  \n",
       "4314                        0  \n",
       "4344                        0  \n",
       "4345                        0  \n",
       "4412                        0  \n",
       "4538                        0  \n",
       "4651                        0  \n",
       "4727                        0  "
      ]
     },
     "execution_count": 14,
     "metadata": {},
     "output_type": "execute_result"
    }
   ],
   "source": [
    "data[['Customer', 'Create.Day', 'Customer.Contacts.So.Far', \n",
    "      'Customer.First.Contact']].sort_values(by = ['Customer', 'Create.Day']).head(20)"
   ]
  },
  {
   "cell_type": "markdown",
   "metadata": {},
   "source": [
    "### How many so far"
   ]
  },
  {
   "cell_type": "markdown",
   "metadata": {},
   "source": [
    "Customer.Contacts.So.Far"
   ]
  },
  {
   "cell_type": "markdown",
   "metadata": {},
   "source": [
    "### Convertion rate so far"
   ]
  },
  {
   "cell_type": "code",
   "execution_count": 15,
   "metadata": {
    "collapsed": true
   },
   "outputs": [],
   "source": [
    "data['Customer.Won.So.Far'] = data.groupby('Customer').cumsum()['Target']"
   ]
  },
  {
   "cell_type": "code",
   "execution_count": 16,
   "metadata": {},
   "outputs": [],
   "source": [
    "data['Customer.ConvRatio.So.Far'] = data['Customer.Won.So.Far'].astype('float') / data['Customer.Contacts.So.Far']"
   ]
  },
  {
   "cell_type": "code",
   "execution_count": 17,
   "metadata": {},
   "outputs": [
    {
     "data": {
      "text/html": [
       "<div>\n",
       "<style>\n",
       "    .dataframe thead tr:only-child th {\n",
       "        text-align: right;\n",
       "    }\n",
       "\n",
       "    .dataframe thead th {\n",
       "        text-align: left;\n",
       "    }\n",
       "\n",
       "    .dataframe tbody tr th {\n",
       "        vertical-align: top;\n",
       "    }\n",
       "</style>\n",
       "<table border=\"1\" class=\"dataframe\">\n",
       "  <thead>\n",
       "    <tr style=\"text-align: right;\">\n",
       "      <th></th>\n",
       "      <th>Customer</th>\n",
       "      <th>Create.Day</th>\n",
       "      <th>Target</th>\n",
       "      <th>Customer.Contacts.So.Far</th>\n",
       "      <th>Customer.Won.So.Far</th>\n",
       "      <th>Customer.ConvRatio.So.Far</th>\n",
       "    </tr>\n",
       "  </thead>\n",
       "  <tbody>\n",
       "    <tr>\n",
       "      <th>18511</th>\n",
       "      <td>1&amp;1 De-Mail GmbH [127995]</td>\n",
       "      <td>2013-11-15</td>\n",
       "      <td>1</td>\n",
       "      <td>1</td>\n",
       "      <td>1</td>\n",
       "      <td>1.000000</td>\n",
       "    </tr>\n",
       "    <tr>\n",
       "      <th>19812</th>\n",
       "      <td>1&amp;1 De-Mail GmbH [127995]</td>\n",
       "      <td>2014-03-17</td>\n",
       "      <td>1</td>\n",
       "      <td>2</td>\n",
       "      <td>2</td>\n",
       "      <td>1.000000</td>\n",
       "    </tr>\n",
       "    <tr>\n",
       "      <th>22461</th>\n",
       "      <td>1&amp;1 De-Mail GmbH [127995]</td>\n",
       "      <td>2014-12-09</td>\n",
       "      <td>1</td>\n",
       "      <td>3</td>\n",
       "      <td>3</td>\n",
       "      <td>1.000000</td>\n",
       "    </tr>\n",
       "    <tr>\n",
       "      <th>23385</th>\n",
       "      <td>1&amp;1 De-Mail GmbH [127995]</td>\n",
       "      <td>2015-03-10</td>\n",
       "      <td>1</td>\n",
       "      <td>4</td>\n",
       "      <td>4</td>\n",
       "      <td>1.000000</td>\n",
       "    </tr>\n",
       "    <tr>\n",
       "      <th>27591</th>\n",
       "      <td>1&amp;1 De-Mail GmbH [127995]</td>\n",
       "      <td>2016-04-01</td>\n",
       "      <td>1</td>\n",
       "      <td>5</td>\n",
       "      <td>5</td>\n",
       "      <td>1.000000</td>\n",
       "    </tr>\n",
       "    <tr>\n",
       "      <th>774</th>\n",
       "      <td>1&amp;1 Internet SE [4497]</td>\n",
       "      <td>2009-03-01</td>\n",
       "      <td>1</td>\n",
       "      <td>1</td>\n",
       "      <td>1</td>\n",
       "      <td>1.000000</td>\n",
       "    </tr>\n",
       "    <tr>\n",
       "      <th>775</th>\n",
       "      <td>1&amp;1 Internet SE [4497]</td>\n",
       "      <td>2009-03-01</td>\n",
       "      <td>1</td>\n",
       "      <td>2</td>\n",
       "      <td>2</td>\n",
       "      <td>1.000000</td>\n",
       "    </tr>\n",
       "    <tr>\n",
       "      <th>2593</th>\n",
       "      <td>1&amp;1 Internet SE [4497]</td>\n",
       "      <td>2009-03-06</td>\n",
       "      <td>1</td>\n",
       "      <td>3</td>\n",
       "      <td>3</td>\n",
       "      <td>1.000000</td>\n",
       "    </tr>\n",
       "    <tr>\n",
       "      <th>2594</th>\n",
       "      <td>1&amp;1 Internet SE [4497]</td>\n",
       "      <td>2009-03-06</td>\n",
       "      <td>1</td>\n",
       "      <td>4</td>\n",
       "      <td>4</td>\n",
       "      <td>1.000000</td>\n",
       "    </tr>\n",
       "    <tr>\n",
       "      <th>3325</th>\n",
       "      <td>1&amp;1 Internet SE [4497]</td>\n",
       "      <td>2009-05-28</td>\n",
       "      <td>1</td>\n",
       "      <td>5</td>\n",
       "      <td>5</td>\n",
       "      <td>1.000000</td>\n",
       "    </tr>\n",
       "    <tr>\n",
       "      <th>3332</th>\n",
       "      <td>1&amp;1 Internet SE [4497]</td>\n",
       "      <td>2009-05-28</td>\n",
       "      <td>0</td>\n",
       "      <td>6</td>\n",
       "      <td>5</td>\n",
       "      <td>0.833333</td>\n",
       "    </tr>\n",
       "    <tr>\n",
       "      <th>3956</th>\n",
       "      <td>1&amp;1 Internet SE [4497]</td>\n",
       "      <td>2009-08-05</td>\n",
       "      <td>0</td>\n",
       "      <td>7</td>\n",
       "      <td>5</td>\n",
       "      <td>0.714286</td>\n",
       "    </tr>\n",
       "    <tr>\n",
       "      <th>4081</th>\n",
       "      <td>1&amp;1 Internet SE [4497]</td>\n",
       "      <td>2009-08-24</td>\n",
       "      <td>1</td>\n",
       "      <td>8</td>\n",
       "      <td>6</td>\n",
       "      <td>0.750000</td>\n",
       "    </tr>\n",
       "    <tr>\n",
       "      <th>4314</th>\n",
       "      <td>1&amp;1 Internet SE [4497]</td>\n",
       "      <td>2009-09-16</td>\n",
       "      <td>1</td>\n",
       "      <td>9</td>\n",
       "      <td>7</td>\n",
       "      <td>0.777778</td>\n",
       "    </tr>\n",
       "    <tr>\n",
       "      <th>4344</th>\n",
       "      <td>1&amp;1 Internet SE [4497]</td>\n",
       "      <td>2009-09-21</td>\n",
       "      <td>0</td>\n",
       "      <td>10</td>\n",
       "      <td>7</td>\n",
       "      <td>0.700000</td>\n",
       "    </tr>\n",
       "    <tr>\n",
       "      <th>4345</th>\n",
       "      <td>1&amp;1 Internet SE [4497]</td>\n",
       "      <td>2009-09-21</td>\n",
       "      <td>1</td>\n",
       "      <td>11</td>\n",
       "      <td>8</td>\n",
       "      <td>0.727273</td>\n",
       "    </tr>\n",
       "    <tr>\n",
       "      <th>4412</th>\n",
       "      <td>1&amp;1 Internet SE [4497]</td>\n",
       "      <td>2009-09-24</td>\n",
       "      <td>1</td>\n",
       "      <td>12</td>\n",
       "      <td>9</td>\n",
       "      <td>0.750000</td>\n",
       "    </tr>\n",
       "    <tr>\n",
       "      <th>4538</th>\n",
       "      <td>1&amp;1 Internet SE [4497]</td>\n",
       "      <td>2009-10-08</td>\n",
       "      <td>0</td>\n",
       "      <td>13</td>\n",
       "      <td>9</td>\n",
       "      <td>0.692308</td>\n",
       "    </tr>\n",
       "    <tr>\n",
       "      <th>4651</th>\n",
       "      <td>1&amp;1 Internet SE [4497]</td>\n",
       "      <td>2009-10-23</td>\n",
       "      <td>1</td>\n",
       "      <td>14</td>\n",
       "      <td>10</td>\n",
       "      <td>0.714286</td>\n",
       "    </tr>\n",
       "    <tr>\n",
       "      <th>4727</th>\n",
       "      <td>1&amp;1 Internet SE [4497]</td>\n",
       "      <td>2009-11-02</td>\n",
       "      <td>0</td>\n",
       "      <td>15</td>\n",
       "      <td>10</td>\n",
       "      <td>0.666667</td>\n",
       "    </tr>\n",
       "  </tbody>\n",
       "</table>\n",
       "</div>"
      ],
      "text/plain": [
       "                        Customer Create.Day  Target  Customer.Contacts.So.Far  \\\n",
       "18511  1&1 De-Mail GmbH [127995] 2013-11-15       1                         1   \n",
       "19812  1&1 De-Mail GmbH [127995] 2014-03-17       1                         2   \n",
       "22461  1&1 De-Mail GmbH [127995] 2014-12-09       1                         3   \n",
       "23385  1&1 De-Mail GmbH [127995] 2015-03-10       1                         4   \n",
       "27591  1&1 De-Mail GmbH [127995] 2016-04-01       1                         5   \n",
       "774       1&1 Internet SE [4497] 2009-03-01       1                         1   \n",
       "775       1&1 Internet SE [4497] 2009-03-01       1                         2   \n",
       "2593      1&1 Internet SE [4497] 2009-03-06       1                         3   \n",
       "2594      1&1 Internet SE [4497] 2009-03-06       1                         4   \n",
       "3325      1&1 Internet SE [4497] 2009-05-28       1                         5   \n",
       "3332      1&1 Internet SE [4497] 2009-05-28       0                         6   \n",
       "3956      1&1 Internet SE [4497] 2009-08-05       0                         7   \n",
       "4081      1&1 Internet SE [4497] 2009-08-24       1                         8   \n",
       "4314      1&1 Internet SE [4497] 2009-09-16       1                         9   \n",
       "4344      1&1 Internet SE [4497] 2009-09-21       0                        10   \n",
       "4345      1&1 Internet SE [4497] 2009-09-21       1                        11   \n",
       "4412      1&1 Internet SE [4497] 2009-09-24       1                        12   \n",
       "4538      1&1 Internet SE [4497] 2009-10-08       0                        13   \n",
       "4651      1&1 Internet SE [4497] 2009-10-23       1                        14   \n",
       "4727      1&1 Internet SE [4497] 2009-11-02       0                        15   \n",
       "\n",
       "       Customer.Won.So.Far  Customer.ConvRatio.So.Far  \n",
       "18511                    1                   1.000000  \n",
       "19812                    2                   1.000000  \n",
       "22461                    3                   1.000000  \n",
       "23385                    4                   1.000000  \n",
       "27591                    5                   1.000000  \n",
       "774                      1                   1.000000  \n",
       "775                      2                   1.000000  \n",
       "2593                     3                   1.000000  \n",
       "2594                     4                   1.000000  \n",
       "3325                     5                   1.000000  \n",
       "3332                     5                   0.833333  \n",
       "3956                     5                   0.714286  \n",
       "4081                     6                   0.750000  \n",
       "4314                     7                   0.777778  \n",
       "4344                     7                   0.700000  \n",
       "4345                     8                   0.727273  \n",
       "4412                     9                   0.750000  \n",
       "4538                     9                   0.692308  \n",
       "4651                    10                   0.714286  \n",
       "4727                    10                   0.666667  "
      ]
     },
     "execution_count": 17,
     "metadata": {},
     "output_type": "execute_result"
    }
   ],
   "source": [
    "data[['Customer', 'Create.Day', 'Target', 'Customer.Contacts.So.Far', 'Customer.Won.So.Far', \n",
    "      'Customer.ConvRatio.So.Far']].sort_values(by=['Customer','Create.Day']).head(20)"
   ]
  },
  {
   "cell_type": "markdown",
   "metadata": {},
   "source": [
    "### Convertion rate last 5"
   ]
  },
  {
   "cell_type": "code",
   "execution_count": null,
   "metadata": {
    "collapsed": true
   },
   "outputs": [],
   "source": [
    "cvrl5 = data.groupby('Customer').rolling(window=5, on='Create.Day', min_periods=1).sum()['Target']"
   ]
  },
  {
   "cell_type": "code",
   "execution_count": null,
   "metadata": {
    "collapsed": true
   },
   "outputs": [],
   "source": [
    "cvrl5 = cvrl5.reset_index()"
   ]
  },
  {
   "cell_type": "code",
   "execution_count": null,
   "metadata": {
    "collapsed": true
   },
   "outputs": [],
   "source": [
    "cvrl5.drop('Customer', axis=1, inplace=True)"
   ]
  },
  {
   "cell_type": "code",
   "execution_count": 24,
   "metadata": {},
   "outputs": [],
   "source": [
    "cvrl5.rename(columns={'Target': 'Customer.Won.Last5', 'level_1': 'Opportunity.Number'}, inplace=True)"
   ]
  },
  {
   "cell_type": "code",
   "execution_count": null,
   "metadata": {
    "collapsed": true
   },
   "outputs": [],
   "source": [
    "data = data.reset_index()"
   ]
  },
  {
   "cell_type": "code",
   "execution_count": null,
   "metadata": {
    "collapsed": true
   },
   "outputs": [],
   "source": [
    "data = data.merge(cvrl5, on='Opportunity.Number', how='left')"
   ]
  },
  {
   "cell_type": "code",
   "execution_count": 29,
   "metadata": {
    "collapsed": true
   },
   "outputs": [],
   "source": [
    "data.set_index('Opportunity.Number', inplace=True)"
   ]
  },
  {
   "cell_type": "code",
   "execution_count": 30,
   "metadata": {},
   "outputs": [
    {
     "data": {
      "text/html": [
       "<div>\n",
       "<style>\n",
       "    .dataframe thead tr:only-child th {\n",
       "        text-align: right;\n",
       "    }\n",
       "\n",
       "    .dataframe thead th {\n",
       "        text-align: left;\n",
       "    }\n",
       "\n",
       "    .dataframe tbody tr th {\n",
       "        vertical-align: top;\n",
       "    }\n",
       "</style>\n",
       "<table border=\"1\" class=\"dataframe\">\n",
       "  <thead>\n",
       "    <tr style=\"text-align: right;\">\n",
       "      <th></th>\n",
       "      <th>Customer</th>\n",
       "      <th>Create.Day</th>\n",
       "      <th>Target</th>\n",
       "      <th>Customer.Won.Last5</th>\n",
       "    </tr>\n",
       "    <tr>\n",
       "      <th>Opportunity.Number</th>\n",
       "      <th></th>\n",
       "      <th></th>\n",
       "      <th></th>\n",
       "      <th></th>\n",
       "    </tr>\n",
       "  </thead>\n",
       "  <tbody>\n",
       "    <tr>\n",
       "      <th>19281</th>\n",
       "      <td>1&amp;1 De-Mail GmbH [127995]</td>\n",
       "      <td>2013-11-15</td>\n",
       "      <td>1</td>\n",
       "      <td>1.0</td>\n",
       "    </tr>\n",
       "    <tr>\n",
       "      <th>20596</th>\n",
       "      <td>1&amp;1 De-Mail GmbH [127995]</td>\n",
       "      <td>2014-03-17</td>\n",
       "      <td>1</td>\n",
       "      <td>2.0</td>\n",
       "    </tr>\n",
       "    <tr>\n",
       "      <th>23294</th>\n",
       "      <td>1&amp;1 De-Mail GmbH [127995]</td>\n",
       "      <td>2014-12-09</td>\n",
       "      <td>1</td>\n",
       "      <td>3.0</td>\n",
       "    </tr>\n",
       "    <tr>\n",
       "      <th>24232</th>\n",
       "      <td>1&amp;1 De-Mail GmbH [127995]</td>\n",
       "      <td>2015-03-10</td>\n",
       "      <td>1</td>\n",
       "      <td>4.0</td>\n",
       "    </tr>\n",
       "    <tr>\n",
       "      <th>28501</th>\n",
       "      <td>1&amp;1 De-Mail GmbH [127995]</td>\n",
       "      <td>2016-04-01</td>\n",
       "      <td>1</td>\n",
       "      <td>5.0</td>\n",
       "    </tr>\n",
       "    <tr>\n",
       "      <th>783</th>\n",
       "      <td>1&amp;1 Internet SE [4497]</td>\n",
       "      <td>2009-03-01</td>\n",
       "      <td>1</td>\n",
       "      <td>1.0</td>\n",
       "    </tr>\n",
       "    <tr>\n",
       "      <th>784</th>\n",
       "      <td>1&amp;1 Internet SE [4497]</td>\n",
       "      <td>2009-03-01</td>\n",
       "      <td>1</td>\n",
       "      <td>2.0</td>\n",
       "    </tr>\n",
       "    <tr>\n",
       "      <th>2892</th>\n",
       "      <td>1&amp;1 Internet SE [4497]</td>\n",
       "      <td>2009-03-06</td>\n",
       "      <td>1</td>\n",
       "      <td>3.0</td>\n",
       "    </tr>\n",
       "    <tr>\n",
       "      <th>2893</th>\n",
       "      <td>1&amp;1 Internet SE [4497]</td>\n",
       "      <td>2009-03-06</td>\n",
       "      <td>1</td>\n",
       "      <td>4.0</td>\n",
       "    </tr>\n",
       "    <tr>\n",
       "      <th>3675</th>\n",
       "      <td>1&amp;1 Internet SE [4497]</td>\n",
       "      <td>2009-05-28</td>\n",
       "      <td>1</td>\n",
       "      <td>5.0</td>\n",
       "    </tr>\n",
       "    <tr>\n",
       "      <th>3682</th>\n",
       "      <td>1&amp;1 Internet SE [4497]</td>\n",
       "      <td>2009-05-28</td>\n",
       "      <td>0</td>\n",
       "      <td>4.0</td>\n",
       "    </tr>\n",
       "    <tr>\n",
       "      <th>4333</th>\n",
       "      <td>1&amp;1 Internet SE [4497]</td>\n",
       "      <td>2009-08-05</td>\n",
       "      <td>0</td>\n",
       "      <td>3.0</td>\n",
       "    </tr>\n",
       "    <tr>\n",
       "      <th>4460</th>\n",
       "      <td>1&amp;1 Internet SE [4497]</td>\n",
       "      <td>2009-08-24</td>\n",
       "      <td>1</td>\n",
       "      <td>3.0</td>\n",
       "    </tr>\n",
       "    <tr>\n",
       "      <th>4704</th>\n",
       "      <td>1&amp;1 Internet SE [4497]</td>\n",
       "      <td>2009-09-16</td>\n",
       "      <td>1</td>\n",
       "      <td>3.0</td>\n",
       "    </tr>\n",
       "    <tr>\n",
       "      <th>4734</th>\n",
       "      <td>1&amp;1 Internet SE [4497]</td>\n",
       "      <td>2009-09-21</td>\n",
       "      <td>0</td>\n",
       "      <td>2.0</td>\n",
       "    </tr>\n",
       "    <tr>\n",
       "      <th>4735</th>\n",
       "      <td>1&amp;1 Internet SE [4497]</td>\n",
       "      <td>2009-09-21</td>\n",
       "      <td>1</td>\n",
       "      <td>3.0</td>\n",
       "    </tr>\n",
       "    <tr>\n",
       "      <th>4802</th>\n",
       "      <td>1&amp;1 Internet SE [4497]</td>\n",
       "      <td>2009-09-24</td>\n",
       "      <td>1</td>\n",
       "      <td>4.0</td>\n",
       "    </tr>\n",
       "    <tr>\n",
       "      <th>4930</th>\n",
       "      <td>1&amp;1 Internet SE [4497]</td>\n",
       "      <td>2009-10-08</td>\n",
       "      <td>0</td>\n",
       "      <td>3.0</td>\n",
       "    </tr>\n",
       "    <tr>\n",
       "      <th>5047</th>\n",
       "      <td>1&amp;1 Internet SE [4497]</td>\n",
       "      <td>2009-10-23</td>\n",
       "      <td>1</td>\n",
       "      <td>3.0</td>\n",
       "    </tr>\n",
       "    <tr>\n",
       "      <th>5124</th>\n",
       "      <td>1&amp;1 Internet SE [4497]</td>\n",
       "      <td>2009-11-02</td>\n",
       "      <td>0</td>\n",
       "      <td>3.0</td>\n",
       "    </tr>\n",
       "  </tbody>\n",
       "</table>\n",
       "</div>"
      ],
      "text/plain": [
       "                                     Customer Create.Day  Target  \\\n",
       "Opportunity.Number                                                 \n",
       "19281               1&1 De-Mail GmbH [127995] 2013-11-15       1   \n",
       "20596               1&1 De-Mail GmbH [127995] 2014-03-17       1   \n",
       "23294               1&1 De-Mail GmbH [127995] 2014-12-09       1   \n",
       "24232               1&1 De-Mail GmbH [127995] 2015-03-10       1   \n",
       "28501               1&1 De-Mail GmbH [127995] 2016-04-01       1   \n",
       "783                    1&1 Internet SE [4497] 2009-03-01       1   \n",
       "784                    1&1 Internet SE [4497] 2009-03-01       1   \n",
       "2892                   1&1 Internet SE [4497] 2009-03-06       1   \n",
       "2893                   1&1 Internet SE [4497] 2009-03-06       1   \n",
       "3675                   1&1 Internet SE [4497] 2009-05-28       1   \n",
       "3682                   1&1 Internet SE [4497] 2009-05-28       0   \n",
       "4333                   1&1 Internet SE [4497] 2009-08-05       0   \n",
       "4460                   1&1 Internet SE [4497] 2009-08-24       1   \n",
       "4704                   1&1 Internet SE [4497] 2009-09-16       1   \n",
       "4734                   1&1 Internet SE [4497] 2009-09-21       0   \n",
       "4735                   1&1 Internet SE [4497] 2009-09-21       1   \n",
       "4802                   1&1 Internet SE [4497] 2009-09-24       1   \n",
       "4930                   1&1 Internet SE [4497] 2009-10-08       0   \n",
       "5047                   1&1 Internet SE [4497] 2009-10-23       1   \n",
       "5124                   1&1 Internet SE [4497] 2009-11-02       0   \n",
       "\n",
       "                    Customer.Won.Last5  \n",
       "Opportunity.Number                      \n",
       "19281                              1.0  \n",
       "20596                              2.0  \n",
       "23294                              3.0  \n",
       "24232                              4.0  \n",
       "28501                              5.0  \n",
       "783                                1.0  \n",
       "784                                2.0  \n",
       "2892                               3.0  \n",
       "2893                               4.0  \n",
       "3675                               5.0  \n",
       "3682                               4.0  \n",
       "4333                               3.0  \n",
       "4460                               3.0  \n",
       "4704                               3.0  \n",
       "4734                               2.0  \n",
       "4735                               3.0  \n",
       "4802                               4.0  \n",
       "4930                               3.0  \n",
       "5047                               3.0  \n",
       "5124                               3.0  "
      ]
     },
     "execution_count": 30,
     "metadata": {},
     "output_type": "execute_result"
    }
   ],
   "source": [
    "data[['Customer', 'Create.Day', 'Target', 'Customer.Won.Last5']].sort_values(by=['Customer','Create.Day']).head(20)"
   ]
  },
  {
   "cell_type": "code",
   "execution_count": 31,
   "metadata": {
    "collapsed": true
   },
   "outputs": [],
   "source": [
    "data['Customer.ConvRatio.Last5'] = data['Customer.Won.Last5'] / data['Customer.Contacts.So.Far'].map(lambda x: min(x, 5))"
   ]
  },
  {
   "cell_type": "code",
   "execution_count": 32,
   "metadata": {},
   "outputs": [
    {
     "data": {
      "text/html": [
       "<div>\n",
       "<style>\n",
       "    .dataframe thead tr:only-child th {\n",
       "        text-align: right;\n",
       "    }\n",
       "\n",
       "    .dataframe thead th {\n",
       "        text-align: left;\n",
       "    }\n",
       "\n",
       "    .dataframe tbody tr th {\n",
       "        vertical-align: top;\n",
       "    }\n",
       "</style>\n",
       "<table border=\"1\" class=\"dataframe\">\n",
       "  <thead>\n",
       "    <tr style=\"text-align: right;\">\n",
       "      <th></th>\n",
       "      <th>Customer</th>\n",
       "      <th>Create.Day</th>\n",
       "      <th>Target</th>\n",
       "      <th>Customer.Won.Last5</th>\n",
       "      <th>Customer.ConvRatio.Last5</th>\n",
       "    </tr>\n",
       "    <tr>\n",
       "      <th>Opportunity.Number</th>\n",
       "      <th></th>\n",
       "      <th></th>\n",
       "      <th></th>\n",
       "      <th></th>\n",
       "      <th></th>\n",
       "    </tr>\n",
       "  </thead>\n",
       "  <tbody>\n",
       "    <tr>\n",
       "      <th>19281</th>\n",
       "      <td>1&amp;1 De-Mail GmbH [127995]</td>\n",
       "      <td>2013-11-15</td>\n",
       "      <td>1</td>\n",
       "      <td>1.0</td>\n",
       "      <td>1.0</td>\n",
       "    </tr>\n",
       "    <tr>\n",
       "      <th>20596</th>\n",
       "      <td>1&amp;1 De-Mail GmbH [127995]</td>\n",
       "      <td>2014-03-17</td>\n",
       "      <td>1</td>\n",
       "      <td>2.0</td>\n",
       "      <td>1.0</td>\n",
       "    </tr>\n",
       "    <tr>\n",
       "      <th>23294</th>\n",
       "      <td>1&amp;1 De-Mail GmbH [127995]</td>\n",
       "      <td>2014-12-09</td>\n",
       "      <td>1</td>\n",
       "      <td>3.0</td>\n",
       "      <td>1.0</td>\n",
       "    </tr>\n",
       "    <tr>\n",
       "      <th>24232</th>\n",
       "      <td>1&amp;1 De-Mail GmbH [127995]</td>\n",
       "      <td>2015-03-10</td>\n",
       "      <td>1</td>\n",
       "      <td>4.0</td>\n",
       "      <td>1.0</td>\n",
       "    </tr>\n",
       "    <tr>\n",
       "      <th>28501</th>\n",
       "      <td>1&amp;1 De-Mail GmbH [127995]</td>\n",
       "      <td>2016-04-01</td>\n",
       "      <td>1</td>\n",
       "      <td>5.0</td>\n",
       "      <td>1.0</td>\n",
       "    </tr>\n",
       "    <tr>\n",
       "      <th>783</th>\n",
       "      <td>1&amp;1 Internet SE [4497]</td>\n",
       "      <td>2009-03-01</td>\n",
       "      <td>1</td>\n",
       "      <td>1.0</td>\n",
       "      <td>1.0</td>\n",
       "    </tr>\n",
       "    <tr>\n",
       "      <th>784</th>\n",
       "      <td>1&amp;1 Internet SE [4497]</td>\n",
       "      <td>2009-03-01</td>\n",
       "      <td>1</td>\n",
       "      <td>2.0</td>\n",
       "      <td>1.0</td>\n",
       "    </tr>\n",
       "    <tr>\n",
       "      <th>2892</th>\n",
       "      <td>1&amp;1 Internet SE [4497]</td>\n",
       "      <td>2009-03-06</td>\n",
       "      <td>1</td>\n",
       "      <td>3.0</td>\n",
       "      <td>1.0</td>\n",
       "    </tr>\n",
       "    <tr>\n",
       "      <th>2893</th>\n",
       "      <td>1&amp;1 Internet SE [4497]</td>\n",
       "      <td>2009-03-06</td>\n",
       "      <td>1</td>\n",
       "      <td>4.0</td>\n",
       "      <td>1.0</td>\n",
       "    </tr>\n",
       "    <tr>\n",
       "      <th>3675</th>\n",
       "      <td>1&amp;1 Internet SE [4497]</td>\n",
       "      <td>2009-05-28</td>\n",
       "      <td>1</td>\n",
       "      <td>5.0</td>\n",
       "      <td>1.0</td>\n",
       "    </tr>\n",
       "    <tr>\n",
       "      <th>3682</th>\n",
       "      <td>1&amp;1 Internet SE [4497]</td>\n",
       "      <td>2009-05-28</td>\n",
       "      <td>0</td>\n",
       "      <td>4.0</td>\n",
       "      <td>0.8</td>\n",
       "    </tr>\n",
       "    <tr>\n",
       "      <th>4333</th>\n",
       "      <td>1&amp;1 Internet SE [4497]</td>\n",
       "      <td>2009-08-05</td>\n",
       "      <td>0</td>\n",
       "      <td>3.0</td>\n",
       "      <td>0.6</td>\n",
       "    </tr>\n",
       "    <tr>\n",
       "      <th>4460</th>\n",
       "      <td>1&amp;1 Internet SE [4497]</td>\n",
       "      <td>2009-08-24</td>\n",
       "      <td>1</td>\n",
       "      <td>3.0</td>\n",
       "      <td>0.6</td>\n",
       "    </tr>\n",
       "    <tr>\n",
       "      <th>4704</th>\n",
       "      <td>1&amp;1 Internet SE [4497]</td>\n",
       "      <td>2009-09-16</td>\n",
       "      <td>1</td>\n",
       "      <td>3.0</td>\n",
       "      <td>0.6</td>\n",
       "    </tr>\n",
       "    <tr>\n",
       "      <th>4734</th>\n",
       "      <td>1&amp;1 Internet SE [4497]</td>\n",
       "      <td>2009-09-21</td>\n",
       "      <td>0</td>\n",
       "      <td>2.0</td>\n",
       "      <td>0.4</td>\n",
       "    </tr>\n",
       "    <tr>\n",
       "      <th>4735</th>\n",
       "      <td>1&amp;1 Internet SE [4497]</td>\n",
       "      <td>2009-09-21</td>\n",
       "      <td>1</td>\n",
       "      <td>3.0</td>\n",
       "      <td>0.6</td>\n",
       "    </tr>\n",
       "    <tr>\n",
       "      <th>4802</th>\n",
       "      <td>1&amp;1 Internet SE [4497]</td>\n",
       "      <td>2009-09-24</td>\n",
       "      <td>1</td>\n",
       "      <td>4.0</td>\n",
       "      <td>0.8</td>\n",
       "    </tr>\n",
       "    <tr>\n",
       "      <th>4930</th>\n",
       "      <td>1&amp;1 Internet SE [4497]</td>\n",
       "      <td>2009-10-08</td>\n",
       "      <td>0</td>\n",
       "      <td>3.0</td>\n",
       "      <td>0.6</td>\n",
       "    </tr>\n",
       "    <tr>\n",
       "      <th>5047</th>\n",
       "      <td>1&amp;1 Internet SE [4497]</td>\n",
       "      <td>2009-10-23</td>\n",
       "      <td>1</td>\n",
       "      <td>3.0</td>\n",
       "      <td>0.6</td>\n",
       "    </tr>\n",
       "    <tr>\n",
       "      <th>5124</th>\n",
       "      <td>1&amp;1 Internet SE [4497]</td>\n",
       "      <td>2009-11-02</td>\n",
       "      <td>0</td>\n",
       "      <td>3.0</td>\n",
       "      <td>0.6</td>\n",
       "    </tr>\n",
       "  </tbody>\n",
       "</table>\n",
       "</div>"
      ],
      "text/plain": [
       "                                     Customer Create.Day  Target  \\\n",
       "Opportunity.Number                                                 \n",
       "19281               1&1 De-Mail GmbH [127995] 2013-11-15       1   \n",
       "20596               1&1 De-Mail GmbH [127995] 2014-03-17       1   \n",
       "23294               1&1 De-Mail GmbH [127995] 2014-12-09       1   \n",
       "24232               1&1 De-Mail GmbH [127995] 2015-03-10       1   \n",
       "28501               1&1 De-Mail GmbH [127995] 2016-04-01       1   \n",
       "783                    1&1 Internet SE [4497] 2009-03-01       1   \n",
       "784                    1&1 Internet SE [4497] 2009-03-01       1   \n",
       "2892                   1&1 Internet SE [4497] 2009-03-06       1   \n",
       "2893                   1&1 Internet SE [4497] 2009-03-06       1   \n",
       "3675                   1&1 Internet SE [4497] 2009-05-28       1   \n",
       "3682                   1&1 Internet SE [4497] 2009-05-28       0   \n",
       "4333                   1&1 Internet SE [4497] 2009-08-05       0   \n",
       "4460                   1&1 Internet SE [4497] 2009-08-24       1   \n",
       "4704                   1&1 Internet SE [4497] 2009-09-16       1   \n",
       "4734                   1&1 Internet SE [4497] 2009-09-21       0   \n",
       "4735                   1&1 Internet SE [4497] 2009-09-21       1   \n",
       "4802                   1&1 Internet SE [4497] 2009-09-24       1   \n",
       "4930                   1&1 Internet SE [4497] 2009-10-08       0   \n",
       "5047                   1&1 Internet SE [4497] 2009-10-23       1   \n",
       "5124                   1&1 Internet SE [4497] 2009-11-02       0   \n",
       "\n",
       "                    Customer.Won.Last5  Customer.ConvRatio.Last5  \n",
       "Opportunity.Number                                                \n",
       "19281                              1.0                       1.0  \n",
       "20596                              2.0                       1.0  \n",
       "23294                              3.0                       1.0  \n",
       "24232                              4.0                       1.0  \n",
       "28501                              5.0                       1.0  \n",
       "783                                1.0                       1.0  \n",
       "784                                2.0                       1.0  \n",
       "2892                               3.0                       1.0  \n",
       "2893                               4.0                       1.0  \n",
       "3675                               5.0                       1.0  \n",
       "3682                               4.0                       0.8  \n",
       "4333                               3.0                       0.6  \n",
       "4460                               3.0                       0.6  \n",
       "4704                               3.0                       0.6  \n",
       "4734                               2.0                       0.4  \n",
       "4735                               3.0                       0.6  \n",
       "4802                               4.0                       0.8  \n",
       "4930                               3.0                       0.6  \n",
       "5047                               3.0                       0.6  \n",
       "5124                               3.0                       0.6  "
      ]
     },
     "execution_count": 32,
     "metadata": {},
     "output_type": "execute_result"
    }
   ],
   "source": [
    "data[['Customer', 'Create.Day', 'Target', 'Customer.Won.Last5', \n",
    "      'Customer.ConvRatio.Last5']].sort_values(by=['Customer','Create.Day']).head(20)"
   ]
  },
  {
   "cell_type": "markdown",
   "metadata": {},
   "source": [
    "### How many in last year, convertion ratio last year?"
   ]
  },
  {
   "cell_type": "code",
   "execution_count": null,
   "metadata": {
    "collapsed": true
   },
   "outputs": [],
   "source": [
    "import datetime"
   ]
  },
  {
   "cell_type": "code",
   "execution_count": null,
   "metadata": {},
   "outputs": [],
   "source": [
    "cvrl5 = data.groupby('Customer', ).rolling(window=datetime.timedelta(days=365), \n",
    "                                           on='Create.Day', min_periods=1).sum()[['Target', 'one']]\n",
    "cvrl5 = cvrl5.reset_index()\n",
    "cvrl5.drop('Customer', axis=1, inplace=True)\n",
    "cvrl5.rename(columns={'Target': 'Customer.Won.LastYear', 'one': 'Customer.Contacts.LastYear', \n",
    "                     'level_1': 'Opportunity.Number'}, inplace=True)"
   ]
  },
  {
   "cell_type": "code",
   "execution_count": null,
   "metadata": {},
   "outputs": [],
   "source": [
    "data = data.reset_index()\n",
    "data = data.merge(cvrl5, on='Opportunity.Number', how='left')\n",
    "data.set_index('Opportunity.Number', inplace=True)"
   ]
  },
  {
   "cell_type": "code",
   "execution_count": null,
   "metadata": {},
   "outputs": [],
   "source": [
    "data[['Customer', 'Create.Day', 'Target', 'Customer.Won.LastYear']].sort_values(by=['Customer','Create.Day']).head(20)"
   ]
  },
  {
   "cell_type": "code",
   "execution_count": null,
   "metadata": {},
   "outputs": [],
   "source": [
    "data['Customer.ConvRatio.LastYear'] = data['Customer.Won.LastYear'] / data['Customer.Contacts.LastYear']"
   ]
  },
  {
   "cell_type": "code",
   "execution_count": null,
   "metadata": {},
   "outputs": [],
   "source": [
    "data[['Customer', 'Create.Day', 'Target', 'Customer.Won.LastYear', \n",
    "      'Customer.Contacts.LastYear', 'Customer.ConvRatio.LastYear']].sort_values(by=['Customer','Create.Day']).head(30)"
   ]
  },
  {
   "cell_type": "markdown",
   "metadata": {},
   "source": [
    "### Standard deviation of current Order Entry CHF to average value for a given customer"
   ]
  },
  {
   "cell_type": "code",
   "execution_count": null,
   "metadata": {
    "collapsed": true
   },
   "outputs": [],
   "source": [
    "data['Order.Entry.CHF.Won'] = data['Order.Entry.CHF'] * data['Target']"
   ]
  },
  {
   "cell_type": "code",
   "execution_count": null,
   "metadata": {},
   "outputs": [],
   "source": [
    "data['Customer.Avg.Order.Entry.CHF.So.Far'] = data.groupby('Customer').cumsum()['Order.Entry.CHF.Won'] / data['Customer.Won.So.Far']"
   ]
  },
  {
   "cell_type": "code",
   "execution_count": null,
   "metadata": {
    "scrolled": false
   },
   "outputs": [],
   "source": [
    "data[['Customer', 'Create.Day', 'Target', 'Order.Entry.CHF', 'Order.Entry.CHF.Won',\n",
    "      'Customer.Contacts.So.Far', 'Customer.Avg.Order.Entry.CHF.So.Far']].sort_values(by=['Customer', 'Create.Day']).head(20)"
   ]
  },
  {
   "cell_type": "code",
   "execution_count": null,
   "metadata": {},
   "outputs": [],
   "source": [
    "data['Customer.Avg.Order.Entry.CHF.So.Far.Lag1'] = data.groupby('Customer')['Customer.Avg.Order.Entry.CHF.So.Far'].shift(1)"
   ]
  },
  {
   "cell_type": "code",
   "execution_count": null,
   "metadata": {
    "scrolled": false
   },
   "outputs": [],
   "source": [
    "data[['Customer', 'Create.Day', 'Customer.Avg.Order.Entry.CHF.So.Far', \n",
    "      'Customer.Avg.Order.Entry.CHF.So.Far.Lag1']].sort_values(by=['Customer', 'Create.Day']).head(20)"
   ]
  },
  {
   "cell_type": "code",
   "execution_count": null,
   "metadata": {},
   "outputs": [],
   "source": [
    "data['Customer.Order.Entry.CHF.std2avg'] = (data['Order.Entry.CHF'] - data['Customer.Avg.Order.Entry.CHF.So.Far.Lag1']) /  \\\n",
    "                    data['Customer.Avg.Order.Entry.CHF.So.Far.Lag1'].map(lambda x: np.nan if x==0 else x)"
   ]
  },
  {
   "cell_type": "code",
   "execution_count": null,
   "metadata": {
    "scrolled": false
   },
   "outputs": [],
   "source": [
    "data[['Customer', 'Create.Day', 'Target', 'Order.Entry.CHF',\n",
    "      'Customer.Avg.Order.Entry.CHF.So.Far.Lag1', 'Customer.Order.Entry.CHF.std2avg']].sort_values(by=['Customer', 'Create.Day']).head(20)"
   ]
  },
  {
   "cell_type": "code",
   "execution_count": null,
   "metadata": {
    "collapsed": true
   },
   "outputs": [],
   "source": [
    "data['Customer.Order.Entry.CHF.std2avg'] = data['Customer.Order.Entry.CHF.std2avg'].fillna(0)"
   ]
  },
  {
   "cell_type": "code",
   "execution_count": null,
   "metadata": {},
   "outputs": [],
   "source": [
    "data.groupby('Target').mean()['Customer.Order.Entry.CHF.std2avg']"
   ]
  },
  {
   "cell_type": "markdown",
   "metadata": {},
   "source": [
    "### Last outcome"
   ]
  },
  {
   "cell_type": "code",
   "execution_count": null,
   "metadata": {
    "collapsed": true
   },
   "outputs": [],
   "source": [
    "data['Customer.Last.Target'] = data.groupby('Customer')['Target'].shift(1)"
   ]
  },
  {
   "cell_type": "markdown",
   "metadata": {},
   "source": [
    "### Time (days) since last contact"
   ]
  },
  {
   "cell_type": "code",
   "execution_count": null,
   "metadata": {},
   "outputs": [],
   "source": [
    "data['Customer.Days.Since.LastContact'] = (data['Create.Day'] - data.groupby('Customer')['Create.Day'].shift(1)).dt.days"
   ]
  },
  {
   "cell_type": "markdown",
   "metadata": {},
   "source": [
    "### Time (days) since last win"
   ]
  },
  {
   "cell_type": "code",
   "execution_count": null,
   "metadata": {
    "collapsed": true
   },
   "outputs": [],
   "source": [
    "idxWon = (data.Target == 1)\n",
    "data.loc[idxWon, 'Customer.Last.Day.Won'] = data.loc[idxWon, 'Create.Day']\n",
    "data['Customer.Last.Day.Won'] = data['Customer.Last.Day.Won'].fillna(method='ffill')\n",
    "data['Customer.Last.Day.Won'] = data['Customer.Last.Day.Won'].shift(1)\n",
    "data['Customer.Days.Since.LastWin'] = (data['Create.Day'] - data['Customer.Last.Day.Won']).dt.days"
   ]
  },
  {
   "cell_type": "markdown",
   "metadata": {},
   "source": [
    "What are negative values?"
   ]
  },
  {
   "cell_type": "markdown",
   "metadata": {},
   "source": [
    "### Time (days) since last loss"
   ]
  },
  {
   "cell_type": "code",
   "execution_count": null,
   "metadata": {
    "collapsed": true
   },
   "outputs": [],
   "source": [
    "idxLost = (data.Target == 0)\n",
    "data.loc[idxWon, 'Customer.Last.Day.Loss'] = data.loc[idxLost, 'Create.Day']\n",
    "data['Customer.Last.Day.Loss'] = data['Customer.Last.Day.Loss'].fillna(method='ffill')\n",
    "data['Customer.Last.Day.Loss'] = data['Customer.Last.Day.Loss'].shift(1)\n",
    "data['Customer.Days.Since.LastLoss'] = (data['Create.Day'] - data['Customer.Last.Day.Loss']).dt.days"
   ]
  },
  {
   "cell_type": "markdown",
   "metadata": {},
   "source": [
    "### Amount CHF last win"
   ]
  },
  {
   "cell_type": "code",
   "execution_count": null,
   "metadata": {},
   "outputs": [],
   "source": [
    "idxWon = (data.Target == 1)\n",
    "data.loc[idxWon, 'Customer.CHF.Last.Won'] = data.loc[idxWon, 'Order.Entry.CHF']\n",
    "data['Customer.CHF.Last.Won'] = data['Customer.CHF.Last.Won'].fillna(method='ffill')\n",
    "data['Customer.CHF.Last.Won'] = data['Customer.CHF.Last.Won'].shift(1)"
   ]
  },
  {
   "cell_type": "markdown",
   "metadata": {},
   "source": [
    "### Amount  CHF last loss"
   ]
  },
  {
   "cell_type": "code",
   "execution_count": null,
   "metadata": {
    "collapsed": true
   },
   "outputs": [],
   "source": [
    "idxLoss = (data.Target == 0)\n",
    "data.loc[idxWon, 'Customer.CHF.Last.Loss'] = data.loc[idxLoss, 'Order.Entry.CHF']\n",
    "data['Customer.CHF.Last.Loss'] = data['Customer.CHF.Last.Loss'].fillna(method='ffill')\n",
    "data['Customer.CHF.Last.Loss'] = data['Customer.CHF.Last.Loss'].shift(1)"
   ]
  },
  {
   "cell_type": "code",
   "execution_count": null,
   "metadata": {},
   "outputs": [],
   "source": [
    "data.info()"
   ]
  },
  {
   "cell_type": "code",
   "execution_count": null,
   "metadata": {},
   "outputs": [],
   "source": [
    "data.to_csv('../data/test.csv', index=False, encoding='latin1')"
   ]
  },
  {
   "cell_type": "code",
   "execution_count": null,
   "metadata": {
    "collapsed": true
   },
   "outputs": [],
   "source": []
  }
 ],
 "metadata": {
  "kernelspec": {
   "display_name": "Python 2",
   "language": "python",
   "name": "python2"
  },
  "language_info": {
   "codemirror_mode": {
    "name": "ipython",
    "version": 2
   },
   "file_extension": ".py",
   "mimetype": "text/x-python",
   "name": "python",
   "nbconvert_exporter": "python",
   "pygments_lexer": "ipython2",
   "version": "2.7.13"
  }
 },
 "nbformat": 4,
 "nbformat_minor": 2
}
